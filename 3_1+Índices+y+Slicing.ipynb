{
  "cells": [
    {
      "cell_type": "markdown",
      "metadata": {
        "id": "view-in-github",
        "colab_type": "text"
      },
      "source": [
        "<a href=\"https://colab.research.google.com/github/franklinhamer2727/test-python/blob/main/3_1%2BI%CC%81ndices%2By%2BSlicing.ipynb\" target=\"_parent\"><img src=\"https://colab.research.google.com/assets/colab-badge.svg\" alt=\"Open In Colab\"/></a>"
      ]
    },
    {
      "cell_type": "markdown",
      "metadata": {
        "id": "m7v1Vdgsv0Mm"
      },
      "source": [
        "<font color=Green>\n",
        "    \n",
        "# **3.1 Índices y slicing**\n",
        "\n",
        "</font>\n",
        "\n",
        "###   Los índices son números ordenados asociados a las variables que nos permiten identificar los elementos por su posición.\n",
        "\n",
        "### Por ejemplo, cada elemento de una cadena tiene su índice."
      ]
    },
    {
      "cell_type": "code",
      "execution_count": 1,
      "metadata": {
        "id": "zIKPNaR6v0Mo"
      },
      "outputs": [],
      "source": [
        "texto = 'ESTA-CADENA'"
      ]
    },
    {
      "cell_type": "markdown",
      "metadata": {
        "id": "g4uzt5U-v0Mp"
      },
      "source": [
        "### El primer elemento siempre tiene el índice 0 porque con este número inicia la numeración.\n"
      ]
    },
    {
      "cell_type": "code",
      "execution_count": 2,
      "metadata": {
        "colab": {
          "base_uri": "https://localhost:8080/"
        },
        "id": "e-KxWQzrv0Mp",
        "outputId": "2f0e1b94-ea8b-4f90-95f8-23bf5972f584"
      },
      "outputs": [
        {
          "output_type": "stream",
          "name": "stdout",
          "text": [
            "E S T A\n"
          ]
        }
      ],
      "source": [
        "print(texto[0], texto[1], texto[2], texto[3])"
      ]
    },
    {
      "cell_type": "markdown",
      "metadata": {
        "id": "nwYUPcTav0Mq"
      },
      "source": [
        "### También a causa de esto, el índice del último elemento se diferencia del número total de elementos por una unidad.\n",
        "\n",
        "> _[ texto[0], texto[1], ... texto[ n-3 ], texto[ n-2 ], texto[ n-1 ] ]_"
      ]
    },
    {
      "cell_type": "code",
      "execution_count": 3,
      "metadata": {
        "colab": {
          "base_uri": "https://localhost:8080/"
        },
        "id": "_ZwZxKghv0Mr",
        "outputId": "c229f72c-03ac-44ee-d419-650b8b25b1af"
      },
      "outputs": [
        {
          "output_type": "stream",
          "name": "stdout",
          "text": [
            "C A D E N A\n"
          ]
        }
      ],
      "source": [
        "print(texto[5], texto[6], texto[7], texto[8], texto[9], texto[10])"
      ]
    },
    {
      "cell_type": "markdown",
      "metadata": {
        "id": "iZhFtfrQv0Mr"
      },
      "source": [
        "### Para cada elemento también existe un índice inverso que realiza una numeración desde el último elemento hasta el primero, empezando la cuenta con -1."
      ]
    },
    {
      "cell_type": "code",
      "execution_count": 4,
      "metadata": {
        "colab": {
          "base_uri": "https://localhost:8080/"
        },
        "id": "3FGsj4D8v0Mr",
        "outputId": "d50b3cf5-b5c7-4394-9e34-6eb7eed76c7f"
      },
      "outputs": [
        {
          "output_type": "stream",
          "name": "stdout",
          "text": [
            "C A D E N A\n"
          ]
        }
      ],
      "source": [
        "#    -6 \\ -5 \\ -4 \\ -3 \\ -2 \\ -1\n",
        "#     C    A    D    E    N    A\n",
        "#     5 /  6 /  7 /  8 /  9 /  10\n",
        "\n",
        "print(texto[-6], texto[-5], texto[-4], texto[-3], texto[-2], texto[-1])"
      ]
    },
    {
      "cell_type": "markdown",
      "metadata": {
        "id": "X4xWCuX2v0Mr"
      },
      "source": [
        "<font color=#003d5c>     \n",
        "## _Slicing_\n",
        "</font>\n",
        "\n",
        "###  Gracias a los índices podemos seleccionar una secuencia de elementos de una variable. Esto se conoce como slicing\n",
        "\n",
        "### La secuencia de elementos la definimos con el formato _[ a : b ]_ . Esto es un rango de valores, y el slicing va a devolvernos desde el elemento _a_ hasta el elemento previo al _b_, así que vamos a decir que b está excluido del rango.\n",
        "\n",
        "> __PROTIP__ : Cuando un rango de valores excluye alguno de sus límites (Siendo _a_ el límite inferior, y _b_ el límite superior), se dice que el rango es abierto: \\\n",
        ">--->_Abierto por la derecha_ , si excluye a _b_ \\\n",
        ">--->_Abierto por la izquierda_ , si excluye a _a_"
      ]
    },
    {
      "cell_type": "code",
      "execution_count": 5,
      "metadata": {
        "colab": {
          "base_uri": "https://localhost:8080/",
          "height": 35
        },
        "id": "gvZq2maBv0Ms",
        "outputId": "0254ab30-56da-4455-95c8-744242d2f1b4"
      },
      "outputs": [
        {
          "output_type": "execute_result",
          "data": {
            "text/plain": [
              "'ESTA'"
            ],
            "application/vnd.google.colaboratory.intrinsic+json": {
              "type": "string"
            }
          },
          "metadata": {},
          "execution_count": 5
        }
      ],
      "source": [
        "texto[0:4]"
      ]
    },
    {
      "cell_type": "code",
      "execution_count": 6,
      "metadata": {
        "colab": {
          "base_uri": "https://localhost:8080/",
          "height": 35
        },
        "id": "hGmoJZyJv0Mu",
        "outputId": "3d010577-ec26-44fb-b7df-760eeb2bf7c2"
      },
      "outputs": [
        {
          "output_type": "execute_result",
          "data": {
            "text/plain": [
              "'CADEN'"
            ],
            "application/vnd.google.colaboratory.intrinsic+json": {
              "type": "string"
            }
          },
          "metadata": {},
          "execution_count": 6
        }
      ],
      "source": [
        "texto[-6:-1]"
      ]
    },
    {
      "cell_type": "markdown",
      "metadata": {
        "id": "6YfMiwaav0Mu"
      },
      "source": [
        "### Podemos omitir especificar alguno de los límites:\n",
        "+ Si omitimos a [: b], empezará la secuencia desde el índice 0. (Equivale a escribir [ 0 : b ] )\n",
        "+ Si omitimos b [a :], terminará la secuencia con el último elemento. (Equivale a escribir [ a : (n-1) ] )"
      ]
    },
    {
      "cell_type": "code",
      "execution_count": 7,
      "metadata": {
        "colab": {
          "base_uri": "https://localhost:8080/",
          "height": 35
        },
        "id": "PvFEwE_iv0Mu",
        "outputId": "9c772682-0f41-4e68-ece1-26bff489199e"
      },
      "outputs": [
        {
          "output_type": "execute_result",
          "data": {
            "text/plain": [
              "'CADEN'"
            ],
            "application/vnd.google.colaboratory.intrinsic+json": {
              "type": "string"
            }
          },
          "metadata": {},
          "execution_count": 7
        }
      ],
      "source": [
        "texto[-6:-1]"
      ]
    },
    {
      "cell_type": "code",
      "execution_count": 8,
      "metadata": {
        "colab": {
          "base_uri": "https://localhost:8080/",
          "height": 35
        },
        "id": "wWZHGTzHv0Mu",
        "outputId": "c7124a1a-38ee-4aaa-b313-ae4f9f27367c"
      },
      "outputs": [
        {
          "output_type": "execute_result",
          "data": {
            "text/plain": [
              "'CADENA'"
            ],
            "application/vnd.google.colaboratory.intrinsic+json": {
              "type": "string"
            }
          },
          "metadata": {},
          "execution_count": 8
        }
      ],
      "source": [
        "texto[-6:]"
      ]
    },
    {
      "cell_type": "code",
      "execution_count": 9,
      "metadata": {
        "colab": {
          "base_uri": "https://localhost:8080/",
          "height": 35
        },
        "id": "ydRDEDyuv0Mu",
        "outputId": "95c9c8c7-79a8-4358-c2b8-afc0807ec05a"
      },
      "outputs": [
        {
          "output_type": "execute_result",
          "data": {
            "text/plain": [
              "'ESTA'"
            ],
            "application/vnd.google.colaboratory.intrinsic+json": {
              "type": "string"
            }
          },
          "metadata": {},
          "execution_count": 9
        }
      ],
      "source": [
        "texto[:4]"
      ]
    },
    {
      "cell_type": "code",
      "execution_count": 10,
      "metadata": {
        "colab": {
          "base_uri": "https://localhost:8080/",
          "height": 35
        },
        "id": "wF0j2R-8v0Mu",
        "outputId": "ae4613b3-f564-410b-fc52-d857ee621c9b"
      },
      "outputs": [
        {
          "output_type": "execute_result",
          "data": {
            "text/plain": [
              "'A-CA'"
            ],
            "application/vnd.google.colaboratory.intrinsic+json": {
              "type": "string"
            }
          },
          "metadata": {},
          "execution_count": 10
        }
      ],
      "source": [
        "texto[3:7]"
      ]
    },
    {
      "cell_type": "code",
      "execution_count": 10,
      "metadata": {
        "id": "h2n1ZVL7v0Mw"
      },
      "outputs": [],
      "source": []
    }
  ],
  "metadata": {
    "kernelspec": {
      "display_name": "Python 3",
      "language": "python",
      "name": "python3"
    },
    "language_info": {
      "codemirror_mode": {
        "name": "ipython",
        "version": 3
      },
      "file_extension": ".py",
      "mimetype": "text/x-python",
      "name": "python",
      "nbconvert_exporter": "python",
      "pygments_lexer": "ipython3",
      "version": "3.7.6"
    },
    "colab": {
      "provenance": [],
      "include_colab_link": true
    }
  },
  "nbformat": 4,
  "nbformat_minor": 0
}